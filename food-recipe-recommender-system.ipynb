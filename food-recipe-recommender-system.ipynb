{
 "cells": [
  {
   "cell_type": "markdown",
   "id": "995dfd0d",
   "metadata": {},
   "source": [
    "# Recipe Recommender System based on input food's ingredients\n",
    "\n",
    "The Recipe Recommender is system that uses the names of food the user has previously consumed or prefers to present other similar foods that are related to the initial input by their relative ingredients.\n",
    "_________________\n",
    "\n",
    "## Overview \n",
    "\n",
    "The recommender system is designed to use Content-Based filter, another option could be to use a Collaborative filtering, but since this project does not store preferences or personally identifiable data about user, this approach was not selected, however, a more complete system would integrate both system for a better recommendation."
   ]
  },
  {
   "attachments": {},
   "cell_type": "markdown",
   "id": "62fe084e",
   "metadata": {},
   "source": [
    "source: https://www.kaggle.com/code/yyzz1010/content-based-filtering-recipe-recommender \n",
    "source: https://www.kaggle.com/code/sagarbapodara/movie-recommendation-system-web-app \n",
    "source: https://www.youtube.com/watch?v=ijtxuF_5kEU&ab_channel=AISciences\n",
    "source: https://www.geeksforgeeks.org/sklearn-feature-extraction-with-tf-idf/"
   ]
  },
  {
   "cell_type": "markdown",
   "id": "8f31f3c6",
   "metadata": {},
   "source": [
    "### Importing libraries"
   ]
  },
  {
   "cell_type": "code",
   "execution_count": 2,
   "id": "aca969f9",
   "metadata": {},
   "outputs": [],
   "source": [
    "import os\n",
    "import numpy as np\n",
    "import pandas as pd\n",
    "import pickle\n",
    "import sklearn\n",
    "from sklearn.metrics.pairwise import cosine_similarity\n",
    "from sklearn.metrics.pairwise  import  linear_kernel\n",
    "from sklearn.feature_extraction.text import TfidfVectorizer\n",
    "import warnings\n",
    "import ast\n",
    "import nltk \n",
    "from nltk.stem.porter import PorterStemmer\n",
    "import json"
   ]
  },
  {
   "cell_type": "markdown",
   "id": "5e8c29aa",
   "metadata": {},
   "source": [
    "## importing dataset"
   ]
  },
  {
   "cell_type": "code",
   "execution_count": 3,
   "id": "1abb1f76",
   "metadata": {},
   "outputs": [
    {
     "name": "stdout",
     "output_type": "stream",
     "text": [
      "<class 'pandas.core.frame.DataFrame'>\n",
      "RangeIndex: 13501 entries, 0 to 13500\n",
      "Data columns (total 6 columns):\n",
      " #   Column               Non-Null Count  Dtype \n",
      "---  ------               --------------  ----- \n",
      " 0   Unnamed: 0           13501 non-null  int64 \n",
      " 1   Title                13496 non-null  object\n",
      " 2   Ingredients          13501 non-null  object\n",
      " 3   Instructions         13493 non-null  object\n",
      " 4   Image_Name           13501 non-null  object\n",
      " 5   Cleaned_Ingredients  13501 non-null  object\n",
      "dtypes: int64(1), object(5)\n",
      "memory usage: 633.0+ KB\n"
     ]
    },
    {
     "data": {
      "text/html": [
       "<div>\n",
       "<style scoped>\n",
       "    .dataframe tbody tr th:only-of-type {\n",
       "        vertical-align: middle;\n",
       "    }\n",
       "\n",
       "    .dataframe tbody tr th {\n",
       "        vertical-align: top;\n",
       "    }\n",
       "\n",
       "    .dataframe thead th {\n",
       "        text-align: right;\n",
       "    }\n",
       "</style>\n",
       "<table border=\"1\" class=\"dataframe\">\n",
       "  <thead>\n",
       "    <tr style=\"text-align: right;\">\n",
       "      <th></th>\n",
       "      <th>Unnamed: 0</th>\n",
       "      <th>Title</th>\n",
       "      <th>Ingredients</th>\n",
       "      <th>Instructions</th>\n",
       "      <th>Image_Name</th>\n",
       "      <th>Cleaned_Ingredients</th>\n",
       "    </tr>\n",
       "  </thead>\n",
       "  <tbody>\n",
       "    <tr>\n",
       "      <th>0</th>\n",
       "      <td>0</td>\n",
       "      <td>Miso-Butter Roast Chicken With Acorn Squash Pa...</td>\n",
       "      <td>['1 (3½–4-lb.) whole chicken', '2¾ tsp. kosher...</td>\n",
       "      <td>Pat chicken dry with paper towels, season all ...</td>\n",
       "      <td>miso-butter-roast-chicken-acorn-squash-panzanella</td>\n",
       "      <td>['1 (3½–4-lb.) whole chicken', '2¾ tsp. kosher...</td>\n",
       "    </tr>\n",
       "    <tr>\n",
       "      <th>1</th>\n",
       "      <td>1</td>\n",
       "      <td>Crispy Salt and Pepper Potatoes</td>\n",
       "      <td>['2 large egg whites', '1 pound new potatoes (...</td>\n",
       "      <td>Preheat oven to 400°F and line a rimmed baking...</td>\n",
       "      <td>crispy-salt-and-pepper-potatoes-dan-kluger</td>\n",
       "      <td>['2 large egg whites', '1 pound new potatoes (...</td>\n",
       "    </tr>\n",
       "    <tr>\n",
       "      <th>2</th>\n",
       "      <td>2</td>\n",
       "      <td>Thanksgiving Mac and Cheese</td>\n",
       "      <td>['1 cup evaporated milk', '1 cup whole milk', ...</td>\n",
       "      <td>Place a rack in middle of oven; preheat to 400...</td>\n",
       "      <td>thanksgiving-mac-and-cheese-erick-williams</td>\n",
       "      <td>['1 cup evaporated milk', '1 cup whole milk', ...</td>\n",
       "    </tr>\n",
       "    <tr>\n",
       "      <th>3</th>\n",
       "      <td>3</td>\n",
       "      <td>Italian Sausage and Bread Stuffing</td>\n",
       "      <td>['1 (¾- to 1-pound) round Italian loaf, cut in...</td>\n",
       "      <td>Preheat oven to 350°F with rack in middle. Gen...</td>\n",
       "      <td>italian-sausage-and-bread-stuffing-240559</td>\n",
       "      <td>['1 (¾- to 1-pound) round Italian loaf, cut in...</td>\n",
       "    </tr>\n",
       "    <tr>\n",
       "      <th>4</th>\n",
       "      <td>4</td>\n",
       "      <td>Newton's Law</td>\n",
       "      <td>['1 teaspoon dark brown sugar', '1 teaspoon ho...</td>\n",
       "      <td>Stir together brown sugar and hot water in a c...</td>\n",
       "      <td>newtons-law-apple-bourbon-cocktail</td>\n",
       "      <td>['1 teaspoon dark brown sugar', '1 teaspoon ho...</td>\n",
       "    </tr>\n",
       "    <tr>\n",
       "      <th>...</th>\n",
       "      <td>...</td>\n",
       "      <td>...</td>\n",
       "      <td>...</td>\n",
       "      <td>...</td>\n",
       "      <td>...</td>\n",
       "      <td>...</td>\n",
       "    </tr>\n",
       "    <tr>\n",
       "      <th>13496</th>\n",
       "      <td>13496</td>\n",
       "      <td>Brownie Pudding Cake</td>\n",
       "      <td>['1 cup all-purpose flour', '2/3 cup unsweeten...</td>\n",
       "      <td>Preheat the oven to 350°F. Into a bowl sift to...</td>\n",
       "      <td>brownie-pudding-cake-14408</td>\n",
       "      <td>['1 cup all-purpose flour', '2/3 cup unsweeten...</td>\n",
       "    </tr>\n",
       "    <tr>\n",
       "      <th>13497</th>\n",
       "      <td>13497</td>\n",
       "      <td>Israeli Couscous with Roasted Butternut Squash...</td>\n",
       "      <td>['1 preserved lemon', '1 1/2 pound butternut s...</td>\n",
       "      <td>Preheat oven to 475°F.\\nHalve lemons and scoop...</td>\n",
       "      <td>israeli-couscous-with-roasted-butternut-squash...</td>\n",
       "      <td>['1 preserved lemon', '1 1/2 pound butternut s...</td>\n",
       "    </tr>\n",
       "    <tr>\n",
       "      <th>13498</th>\n",
       "      <td>13498</td>\n",
       "      <td>Rice with Soy-Glazed Bonito Flakes and Sesame ...</td>\n",
       "      <td>['Leftover katsuo bushi (dried bonito flakes) ...</td>\n",
       "      <td>If using katsuo bushi flakes from package, moi...</td>\n",
       "      <td>rice-with-soy-glazed-bonito-flakes-and-sesame-...</td>\n",
       "      <td>['Leftover katsuo bushi (dried bonito flakes) ...</td>\n",
       "    </tr>\n",
       "    <tr>\n",
       "      <th>13499</th>\n",
       "      <td>13499</td>\n",
       "      <td>Spanakopita</td>\n",
       "      <td>['1 stick (1/2 cup) plus 1 tablespoon unsalted...</td>\n",
       "      <td>Melt 1 tablespoon butter in a 12-inch heavy sk...</td>\n",
       "      <td>spanakopita-107344</td>\n",
       "      <td>['1 stick (1/2 cup) plus 1 tablespoon unsalted...</td>\n",
       "    </tr>\n",
       "    <tr>\n",
       "      <th>13500</th>\n",
       "      <td>13500</td>\n",
       "      <td>Mexican Poblano, Spinach, and Black Bean \"Lasa...</td>\n",
       "      <td>['12 medium to large fresh poblano chiles (2 1...</td>\n",
       "      <td>Lay 4 chiles on their sides on racks of gas bu...</td>\n",
       "      <td>mexican-poblano-spinach-and-black-bean-lasagne...</td>\n",
       "      <td>['12 medium to large fresh poblano chiles (2 1...</td>\n",
       "    </tr>\n",
       "  </tbody>\n",
       "</table>\n",
       "<p>13501 rows × 6 columns</p>\n",
       "</div>"
      ],
      "text/plain": [
       "       Unnamed: 0                                              Title  \\\n",
       "0               0  Miso-Butter Roast Chicken With Acorn Squash Pa...   \n",
       "1               1                    Crispy Salt and Pepper Potatoes   \n",
       "2               2                        Thanksgiving Mac and Cheese   \n",
       "3               3                 Italian Sausage and Bread Stuffing   \n",
       "4               4                                       Newton's Law   \n",
       "...           ...                                                ...   \n",
       "13496       13496                               Brownie Pudding Cake   \n",
       "13497       13497  Israeli Couscous with Roasted Butternut Squash...   \n",
       "13498       13498  Rice with Soy-Glazed Bonito Flakes and Sesame ...   \n",
       "13499       13499                                        Spanakopita   \n",
       "13500       13500  Mexican Poblano, Spinach, and Black Bean \"Lasa...   \n",
       "\n",
       "                                             Ingredients  \\\n",
       "0      ['1 (3½–4-lb.) whole chicken', '2¾ tsp. kosher...   \n",
       "1      ['2 large egg whites', '1 pound new potatoes (...   \n",
       "2      ['1 cup evaporated milk', '1 cup whole milk', ...   \n",
       "3      ['1 (¾- to 1-pound) round Italian loaf, cut in...   \n",
       "4      ['1 teaspoon dark brown sugar', '1 teaspoon ho...   \n",
       "...                                                  ...   \n",
       "13496  ['1 cup all-purpose flour', '2/3 cup unsweeten...   \n",
       "13497  ['1 preserved lemon', '1 1/2 pound butternut s...   \n",
       "13498  ['Leftover katsuo bushi (dried bonito flakes) ...   \n",
       "13499  ['1 stick (1/2 cup) plus 1 tablespoon unsalted...   \n",
       "13500  ['12 medium to large fresh poblano chiles (2 1...   \n",
       "\n",
       "                                            Instructions  \\\n",
       "0      Pat chicken dry with paper towels, season all ...   \n",
       "1      Preheat oven to 400°F and line a rimmed baking...   \n",
       "2      Place a rack in middle of oven; preheat to 400...   \n",
       "3      Preheat oven to 350°F with rack in middle. Gen...   \n",
       "4      Stir together brown sugar and hot water in a c...   \n",
       "...                                                  ...   \n",
       "13496  Preheat the oven to 350°F. Into a bowl sift to...   \n",
       "13497  Preheat oven to 475°F.\\nHalve lemons and scoop...   \n",
       "13498  If using katsuo bushi flakes from package, moi...   \n",
       "13499  Melt 1 tablespoon butter in a 12-inch heavy sk...   \n",
       "13500  Lay 4 chiles on their sides on racks of gas bu...   \n",
       "\n",
       "                                              Image_Name  \\\n",
       "0      miso-butter-roast-chicken-acorn-squash-panzanella   \n",
       "1             crispy-salt-and-pepper-potatoes-dan-kluger   \n",
       "2             thanksgiving-mac-and-cheese-erick-williams   \n",
       "3              italian-sausage-and-bread-stuffing-240559   \n",
       "4                     newtons-law-apple-bourbon-cocktail   \n",
       "...                                                  ...   \n",
       "13496                         brownie-pudding-cake-14408   \n",
       "13497  israeli-couscous-with-roasted-butternut-squash...   \n",
       "13498  rice-with-soy-glazed-bonito-flakes-and-sesame-...   \n",
       "13499                                 spanakopita-107344   \n",
       "13500  mexican-poblano-spinach-and-black-bean-lasagne...   \n",
       "\n",
       "                                     Cleaned_Ingredients  \n",
       "0      ['1 (3½–4-lb.) whole chicken', '2¾ tsp. kosher...  \n",
       "1      ['2 large egg whites', '1 pound new potatoes (...  \n",
       "2      ['1 cup evaporated milk', '1 cup whole milk', ...  \n",
       "3      ['1 (¾- to 1-pound) round Italian loaf, cut in...  \n",
       "4      ['1 teaspoon dark brown sugar', '1 teaspoon ho...  \n",
       "...                                                  ...  \n",
       "13496  ['1 cup all-purpose flour', '2/3 cup unsweeten...  \n",
       "13497  ['1 preserved lemon', '1 1/2 pound butternut s...  \n",
       "13498  ['Leftover katsuo bushi (dried bonito flakes) ...  \n",
       "13499  ['1 stick (1/2 cup) plus 1 tablespoon unsalted...  \n",
       "13500  ['12 medium to large fresh poblano chiles (2 1...  \n",
       "\n",
       "[13501 rows x 6 columns]"
      ]
     },
     "execution_count": 3,
     "metadata": {},
     "output_type": "execute_result"
    }
   ],
   "source": [
    "foodData = pd.read_csv('Food Ingredients and Recipe Dataset with Image Name Mapping.csv')\n",
    "foodData.info() ## overview of datatypes and instance count\n",
    "foodData ## display the first and last 4 rows, to show data is being loaded properly  "
   ]
  },
  {
   "cell_type": "markdown",
   "id": "7c3e4620",
   "metadata": {},
   "source": [
    "# Pre-processing of dataset\n",
    "\n",
    "Overview show that instances in the dataset are stored as a list and strings, and contain an unnecessary column: Unnamed\n",
    "which will have to be dropped before feeding the data to the ML algorithm, in order to get a consistent recommendation."
   ]
  },
  {
   "cell_type": "code",
   "execution_count": 4,
   "id": "eb89776e",
   "metadata": {},
   "outputs": [
    {
     "data": {
      "text/plain": [
       "Unnamed: 0             0\n",
       "Title                  5\n",
       "Ingredients            0\n",
       "Instructions           8\n",
       "Image_Name             0\n",
       "Cleaned_Ingredients    0\n",
       "dtype: int64"
      ]
     },
     "execution_count": 4,
     "metadata": {},
     "output_type": "execute_result"
    }
   ],
   "source": [
    "foodData.isnull().sum() # get count of missing values"
   ]
  },
  {
   "cell_type": "code",
   "execution_count": 5,
   "id": "3ad11a4e",
   "metadata": {},
   "outputs": [
    {
     "name": "stdout",
     "output_type": "stream",
     "text": [
      "                                               Title  \\\n",
      "0  Miso-Butter Roast Chicken With Acorn Squash Pa...   \n",
      "1                    Crispy Salt and Pepper Potatoes   \n",
      "2                        Thanksgiving Mac and Cheese   \n",
      "3                 Italian Sausage and Bread Stuffing   \n",
      "4                                       Newton's Law   \n",
      "\n",
      "                                 Cleaned_Ingredients  \\\n",
      "0  1 (3½–4-lb.) whole chicken, 2¾ tsp. kosher sal...   \n",
      "1  2 large egg whites, 1 pound new potatoes (abou...   \n",
      "2  1 cup evaporated milk, 1 cup whole milk, 1 tsp...   \n",
      "3  1 (¾- to 1-pound) round Italian loaf, cut into...   \n",
      "4  1 teaspoon dark brown sugar, 1 teaspoon hot wa...   \n",
      "\n",
      "                                         Ingredients  \\\n",
      "0  ['1 (3½–4-lb.) whole chicken', '2¾ tsp. kosher...   \n",
      "1  ['2 large egg whites', '1 pound new potatoes (...   \n",
      "2  ['1 cup evaporated milk', '1 cup whole milk', ...   \n",
      "3  ['1 (¾- to 1-pound) round Italian loaf, cut in...   \n",
      "4  ['1 teaspoon dark brown sugar', '1 teaspoon ho...   \n",
      "\n",
      "                                        Instructions  \\\n",
      "0  Pat chicken dry with paper towels, season all ...   \n",
      "1  Preheat oven to 400°F and line a rimmed baking...   \n",
      "2  Place a rack in middle of oven; preheat to 400...   \n",
      "3  Preheat oven to 350°F with rack in middle. Gen...   \n",
      "4  Stir together brown sugar and hot water in a c...   \n",
      "\n",
      "                                          Image_Name  \n",
      "0  miso-butter-roast-chicken-acorn-squash-panzanella  \n",
      "1         crispy-salt-and-pepper-potatoes-dan-kluger  \n",
      "2         thanksgiving-mac-and-cheese-erick-williams  \n",
      "3          italian-sausage-and-bread-stuffing-240559  \n",
      "4                 newtons-law-apple-bourbon-cocktail  \n"
     ]
    }
   ],
   "source": [
    "# Drop all rows that contain missing values\n",
    "foodData.dropna(inplace=True)\n",
    "\n",
    "# Drop the unnecessary column\n",
    "foodData.pop('Unnamed: 0')\n",
    "\n",
    "# Define a lambda function to clean the ingredients\n",
    "clean_ingredients = lambda x: ', '.join([ingredient.strip(\"' \") for ingredient in x.strip('[]').split(',')])\n",
    "\n",
    "# Apply the lambda function to the 'Ingredients' column\n",
    "foodData['Cleaned_Ingredients'] = foodData['Cleaned_Ingredients'].apply(clean_ingredients)\n",
    "# Get the count of duplicated values\n",
    "\n",
    "\n",
    "# Reorder the columns\n",
    "columns = foodData.columns.tolist()\n",
    "columns = columns[:1] + columns[-1:] + columns[1:-1]\n",
    "foodData = foodData[columns]\n",
    "\n",
    "# Print the modified DataFrame\n",
    "print(foodData.head(5))"
   ]
  },
  {
   "cell_type": "code",
   "execution_count": null,
   "id": "6dac829a",
   "metadata": {},
   "outputs": [],
   "source": []
  },
  {
   "cell_type": "code",
   "execution_count": 6,
   "id": "bbc67744",
   "metadata": {},
   "outputs": [],
   "source": [
    "ps = PorterStemmer() # NLP to reduce words to their root form\n",
    "                     # removes plurals, verbs, diff versions of the same word\n",
    "                     # are treated the same \n",
    "def stem(text):\n",
    "    List = []\n",
    "    for i in text.split():\n",
    "        List.append(ps.stem(i))\n",
    "    string = \" \".join(List)\n",
    "    return string"
   ]
  },
  {
   "cell_type": "code",
   "execution_count": 7,
   "id": "f4573d24",
   "metadata": {},
   "outputs": [],
   "source": [
    "tfidf = TfidfVectorizer(stop_words=\"english\") # ignores strings that are filler words\n",
    "foodData['Cleaned_Ingredients'] = foodData['Cleaned_Ingredients'].apply(stem)\n",
    "# create a matrix of vertices that with be used for similarity cosine\n",
    "tfidf_matrix = tfidf.fit_transform(foodData['Cleaned_Ingredients']) "
   ]
  },
  {
   "cell_type": "code",
   "execution_count": 8,
   "id": "64781f5f",
   "metadata": {},
   "outputs": [
    {
     "data": {
      "text/plain": [
       "0        1 (3½–4-lb.) whole chicken, 2¾ tsp. kosher sal...\n",
       "1        2 larg egg whites, 1 pound new potato (about 1...\n",
       "2        1 cup evapor milk, 1 cup whole milk, 1 tsp. ga...\n",
       "3        1 (¾- to 1-pound) round italian loaf, cut into...\n",
       "4        1 teaspoon dark brown sugar, 1 teaspoon hot wa...\n",
       "                               ...                        \n",
       "13496    1 cup all-purpos flour, 2/3 cup unsweeten coco...\n",
       "13497    1 preserv lemon, 1 1/2 pound butternut squash,...\n",
       "13498    leftov katsuo bushi (dri bonito flakes) from m...\n",
       "13499    1 stick (1/2 cup) plu 1 tablespoon unsalt butt...\n",
       "13500    12 medium to larg fresh poblano chile (2 1/4 l...\n",
       "Name: Cleaned_Ingredients, Length: 13493, dtype: object"
      ]
     },
     "execution_count": 8,
     "metadata": {},
     "output_type": "execute_result"
    }
   ],
   "source": [
    "foodData.pop('Cleaned_Ingredients')\n",
    "# foodData.pop('Ingredients')\n",
    "# foodData = foodData.rename(columns={\"Cleaned_Ingredients\": \"Ingredients\"})"
   ]
  },
  {
   "cell_type": "code",
   "execution_count": 9,
   "id": "d266de58",
   "metadata": {},
   "outputs": [],
   "source": [
    "similarity_Cos = linear_kernel(tfidf_matrix, tfidf_matrix) # create a reference of each food against each other"
   ]
  },
  {
   "cell_type": "code",
   "execution_count": 10,
   "id": "ab627416",
   "metadata": {
    "scrolled": true
   },
   "outputs": [
    {
     "name": "stdout",
     "output_type": "stream",
     "text": [
      "Title\n",
      "Miso-Butter Roast Chicken With Acorn Squash Panzanella                     0\n",
      "Crispy Salt and Pepper Potatoes                                            1\n",
      "Thanksgiving Mac and Cheese                                                2\n",
      "Italian Sausage and Bread Stuffing                                         3\n",
      "Newton's Law                                                               4\n",
      "                                                                       ...  \n",
      "Brownie Pudding Cake                                                   13496\n",
      "Israeli Couscous with Roasted Butternut Squash and Preserved Lemon     13497\n",
      "Rice with Soy-Glazed Bonito Flakes and Sesame Seeds                    13498\n",
      "Spanakopita                                                            13499\n",
      "Mexican Poblano, Spinach, and Black Bean \"Lasagne\" with Goat Cheese    13500\n",
      "Length: 13493, dtype: int64\n"
     ]
    }
   ],
   "source": [
    "indices = pd.Series(foodData.index,index=foodData['Title']) # create index values to each title in the dataset\n",
    "print(indices)"
   ]
  },
  {
   "cell_type": "code",
   "execution_count": 31,
   "id": "de793495",
   "metadata": {},
   "outputs": [
    {
     "data": {
      "text/plain": [
       "[{'Title': 'Watermelon-Mint Agua Fresca',\n",
       "  'Ingredients': \"['1/4 cup (packed) fresh mint leaves', '1/4 cup sugar or agave syrup', '5 cups peeled, seeded, coarsely chopped watermelon (from about a 2 1/2-pound watermelon)', '1/4 cup fresh lime juice', 'Mint sprigs (for serving)']\",\n",
       "  'Instructions': 'Combine mint leaves, sugar, and 1/4 cup water in a small pot. Bring to a boil and stir until sugar has dissolved. Transfer mixture to a heatproof container and chill, uncovered, until cool, about 30 minutes.\\nStrain mint syrup into a blender; discard mint leaves. Add watermelon and lime juice and blend until very smooth. Using a fine-mesh sieve, strain into a pitcher; discard solids. Add 2 cups water and stir well to combine. Serve with mint sprigs.\\nAqua fresca can be stored in an airtight container and chilled for up to 1 day.',\n",
       "  'Image_Name': 'watermelon-mint-agua-fresca-56389829'},\n",
       " {'Title': 'Watermelon Granita with Blueberries',\n",
       "  'Ingredients': \"['6 cups (about 2 pounds) seedless watermelon, cubed', '1/2 cup fresh lime juice', '1/3 cup agave nectar', '2 cups fresh blueberries', '6 mint sprigs (optional)']\",\n",
       "  'Instructions': 'In a food processor, puree watermelon, working in 2 batches. Strain puree through a sieve, reserving liquid; discard solids. In a 9\" x 13\" metal pan, combine watermelon puree, juice and agave. Freeze, scraping thoroughly with a fork every 20 to 30 minutes, until granita resembles coarse crystals, 2 to 4 hours. Remove from freezer; scrape granita once more with a fork. Divide among 6 glasses. Top each with 1/3 cup blueberries and a mint sprig, if desired.',\n",
       "  'Image_Name': 'watermelon-granita-with-blueberries-51183410'},\n",
       " {'Title': 'Watermelon Limeade',\n",
       "  'Ingredients': \"['8 cups cubed watermelon (seeds removed), or 1 quart watermelon juice', '1 cup freshly squeezed lime juice', '1/2 cup sugar, or more to taste', 'Lime slices, for garnish (optional)']\",\n",
       "  'Instructions': 'Place half of the watermelon cubes in a blender and process until smooth. Strain through a fine-mesh sieve set over a large bowl; discard the solids. Repeat with the remaining watermelon cubes. You should end up with about 1 quart of watermelon juice.\\nAdd the lime juice and sugar to the watermelon juice, and stir until the sugar has dissolved. Taste, and add more sugar if necessary. Transfer the limeade to a nonreactive pitcher and refrigerate until thoroughly chilled.\\nServe over ice in tumblers, with lime slices for garnish.',\n",
       "  'Image_Name': 'watermelon-limeade'},\n",
       " {'Title': 'Watermelon-Mint Ice Cubes',\n",
       "  'Ingredients': \"['6 cups 1-inch cubes seeded watermelon (about 1/4 large melon)', '4 tablespoons (about) sugar', 'Fresh mint leaves']\",\n",
       "  'Instructions': 'Puree watermelon in processor (there should be about 4 cups). Mix in sugar by tablespoonfuls to sweeten to taste. Pour into 2 to 3 ice cube trays. Rinse mint leaves and place 1 leaf atop puree in each cube. Cover and freeze until cubes are solid, at least 4 hours and up to 2 days.',\n",
       "  'Image_Name': 'watermelon-mint-ice-cubes-235177'},\n",
       " {'Title': 'Watermelonade',\n",
       "  'Ingredients': \"['1 (12-pound) watermelon (preferably seedless)', '1/4 cup sugar, divided', '4 teaspoon fresh lemon juice, divided', '16 cups ice cubes, divided', 'Lemon slices and mint sprigs']\",\n",
       "  'Instructions': 'Cut watermelon flesh into 2-inch chunks and discard rind. Purée one fourth of watermelon in a blender with 1 Tbsp sugar, 1 tsp lemon juice, 4 cups ice, and a pinch of salt. Strain through a fine-mesh sieve into a large bowl, discarding solids. Make 3 more batches. Add sugar to taste if desired and serve over ice.',\n",
       "  'Image_Name': 'watermelonade-242611'},\n",
       " {'Title': 'Summer Melon with Basil-Mint Granita',\n",
       "  'Ingredients': \"['3/4 cup plus 2 tablespoons sugar', '3/4 cup chopped fresh mint leaves', '3/4 cup chopped fresh basil leaves', '2 tablespoons grated lime peel', '1 1/2 cups fresh lime juice', '1 1/4 cups water', '3 small melons, halved lengthwise, seeded, each half cut into 8 wedges (about 3/4 inch wide), peeled', '2 tablespoons thinly sliced fresh mint leaves plus 8 fresh sprigs for garnish']\",\n",
       "  'Instructions': 'Mix sugar, chopped mint, basil, and lime peel in medium bowl. Mash with wooden spoon until herbs turn dark green, about 3 minutes. Stir in lime juice and 1 1/4 cups water. Let stand 1 hour. Strain into large bowl, pressing on solids. Transfer 1/2 cup lime syrup to small pitcher; cover and refrigerate. Pour remaining lime syrup into 13x9x2-inch metal baking dish. Place dish in freezer. Stir syrup with fork every hour until frozen, about 4 hours. (Can be made 1 day ahead. Cover and keep frozen.)\\nDivide melon wedges among 8 shallow soup bowls. Drizzle melon with reserved lime syrup. Scrape granita into flakes with fork. Spoon generous 1/2 cup granita atop melon in each bowl. Sprinkle with sliced mint leaves, garnish with mint sprigs, and serve.',\n",
       "  'Image_Name': 'summer-melon-with-basil-mint-granita-232574'}]"
      ]
     },
     "execution_count": 31,
     "metadata": {},
     "output_type": "execute_result"
    }
   ],
   "source": [
    "def recommendation(title, similarity=similarityCos):\n",
    "    # index of the food name\n",
    "    idx = indices[title]\n",
    "    # get index and similarity score\n",
    "    similarity_scores = list(enumerate(similarity[idx]))  \n",
    "    # sort by similarity score, in descending order\n",
    "    sorted_similarity_scores = sorted(similarity_scores, key=lambda x: x[1], reverse=True)  \n",
    "    # get top 5 similar items\n",
    "    top_similar_indices = [score[0] for score in sorted_similarity_scores[0:6]]  \n",
    "    # get the recommended food data\n",
    "    recommended_food_data = foodData.iloc[top_similar_indices]  \n",
    "    # convert DataFrame to a list of dictionaries\n",
    "    recommended_food_data_list = recommended_food_data.to_dict('records')\n",
    "    return recommended_food_data_list\n",
    "\n",
    "recommendation('Watermelon-Mint Agua Fresca')"
   ]
  },
  {
   "cell_type": "code",
   "execution_count": 11,
   "id": "767d5975",
   "metadata": {},
   "outputs": [],
   "source": [
    "pickle.dump(similarityCos, open('similarity.pkl','wb'))\n",
    "pickle.dump(foodData, open('foodData.pkl', 'wb'))"
   ]
  }
 ],
 "metadata": {
  "kernelspec": {
   "display_name": "Python 3 (ipykernel)",
   "language": "python",
   "name": "python3"
  },
  "language_info": {
   "codemirror_mode": {
    "name": "ipython",
    "version": 3
   },
   "file_extension": ".py",
   "mimetype": "text/x-python",
   "name": "python",
   "nbconvert_exporter": "python",
   "pygments_lexer": "ipython3",
   "version": "3.9.12"
  }
 },
 "nbformat": 4,
 "nbformat_minor": 5
}
